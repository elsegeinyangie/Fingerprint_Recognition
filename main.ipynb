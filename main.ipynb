{
 "cells": [
  {
   "cell_type": "code",
   "execution_count": 1,
   "metadata": {},
   "outputs": [],
   "source": [
    "\n",
    "# import os\n",
    "# import tensorflow as tf\n",
    "\n",
    "# from utils.data_loader import load_and_prepare_data\n",
    "# from utils.model_utils import get_model\n",
    "# from models.training.trainer import train_model\n",
    "# from models.training.evaluate import evaluate_model, plot_history\n",
    "\n",
    "\n",
    "\n",
    "# # List of models to iterate through\n",
    "# model_types = [\"lenet\", \"alexnet\", \"vgg\", \"resnet\", \"googlenet\", \"mobilenet\"]\n",
    "\n",
    "# # Define dataset directory (adjust if needed)\n",
    "# data_path = \"dataset\"\n",
    "\n",
    "# # Initialize empty results dictionary for each model\n",
    "# results = {}\n",
    "\n",
    "\n",
    "\n",
    "\n",
    "# # Iterate over each model type\n",
    "# for model_type in model_types:\n",
    "\n",
    "#     # Load and preprocess the data for the current model\n",
    "#     X_train, X_test, y_gender_train, y_gender_test, y_hand_train, y_hand_test, y_finger_train, y_finger_test = load_and_prepare_data(\n",
    "#         model_type, data_path\n",
    "#     )\n",
    "    \n",
    "#     # Combine labels for training and testing\n",
    "#     y_train = [y_gender_train, y_hand_train, y_finger_train]\n",
    "#     y_test = [y_gender_test, y_hand_test, y_finger_test]\n",
    "\n",
    "#     # Get the input shape for the current model\n",
    "#     input_shape = get_input_shape(model_type)\n",
    "\n",
    "#     # Load the corresponding model\n",
    "#     print(f\"\\nProcessing model: {model_type}\")\n",
    "#     model = get_model(model_type, input_shape)\n",
    "\n",
    "#     # Print model summary (optional)\n",
    "#     model.summary()\n",
    "\n",
    "#     # Training parameters\n",
    "#     batch_size = 32\n",
    "#     epochs = 20\n",
    "#     model_save_dir = \"saved_models\"\n",
    "\n",
    "#     # Train model\n",
    "#     print(f\"Training {model_type} model...\")\n",
    "#     model, history = train_model(\n",
    "#         model, X_train, y_train, X_test, y_test,\n",
    "#         model_name=model_type,\n",
    "#         batch_size=batch_size,\n",
    "#         epochs=epochs,\n",
    "#         model_save_dir=model_save_dir\n",
    "#     )\n",
    "    \n",
    "#     # Evaluate the model\n",
    "#     print(f\"Evaluating {model_type} model...\")\n",
    "#     model_results = evaluate_model(model, X_test, y_test)\n",
    "    \n",
    "#     # Store the results\n",
    "#     results[model_type] = {\n",
    "#         \"model\": model,\n",
    "#         \"history\": history,\n",
    "#         \"evaluation_results\": model_results\n",
    "#     }\n",
    "\n",
    "#     # Optionally, plot accuracy and loss for each model\n",
    "#     plot_history(history)\n",
    "\n"
   ]
  },
  {
   "cell_type": "code",
   "execution_count": 2,
   "metadata": {},
   "outputs": [],
   "source": [
    "%load_ext autoreload\n",
    "%autoreload 2\n"
   ]
  },
  {
   "cell_type": "code",
   "execution_count": 3,
   "metadata": {},
   "outputs": [],
   "source": [
    "# Import necessary libraries\n",
    "import numpy as np\n",
    "import os\n",
    "from sklearn.model_selection import train_test_split\n",
    "\n",
    "from utils.data_loader import load_and_prepare_data\n",
    "from utils.model_utils import get_model, compile_model\n",
    "from models.training.evaluate import evaluate_model, plot_history\n",
    "from models.training.trainer import train_model\n",
    " "
   ]
  },
  {
   "cell_type": "code",
   "execution_count": null,
   "metadata": {},
   "outputs": [
    {
     "ename": "",
     "evalue": "",
     "output_type": "error",
     "traceback": [
      "\u001b[1;31mThe Kernel crashed while executing code in the current cell or a previous cell. \n",
      "\u001b[1;31mPlease review the code in the cell(s) to identify a possible cause of the failure. \n",
      "\u001b[1;31mClick <a href='https://aka.ms/vscodeJupyterKernelCrash'>here</a> for more info. \n",
      "\u001b[1;31mView Jupyter <a href='command:jupyter.viewOutput'>log</a> for further details."
     ]
    }
   ],
   "source": [
    "data_path = 'dataset'  # Path to your dataset\n",
    "\n",
    "# List of models to train\n",
    "model_types = ['mobilenet', 'vgg', 'resnet']"
   ]
  },
  {
   "cell_type": "code",
   "execution_count": null,
   "metadata": {},
   "outputs": [
    {
     "name": "stdout",
     "output_type": "stream",
     "text": [
      "\n",
      "Loading and preparing data for MOBILENET model...\n"
     ]
    }
   ],
   "source": [
    "# Iterate over each model type and run the pipeline\n",
    "for model_type in model_types:\n",
    "    print(f\"\\nLoading and preparing data for {model_type.upper()} model...\")\n",
    "    \n",
    "    # Use the updated load_and_prepare_data function to get datasets\n",
    "    train_dataset, test_dataset = load_and_prepare_data(model_type, data_path, 2)\n",
    "    \n",
    "    # Get the model (ResNet, VGG, MobileNet)\n",
    "    print(f\"\\nFetching {model_type.upper()} model...\")\n",
    "    model = get_model(model_type, input_shape=(224, 224, 3))\n",
    "    # Compile the model\n",
    "    print(f\"\\nCompiling {model_type.upper()} model...\")\n",
    "    model = compile_model(model)\n",
    "\n",
    "    # Train the model\n",
    "    print(f\"\\nTraining {model_type.upper()} model...\")\n",
    "    history = model.fit(\n",
    "        train_dataset,\n",
    "        validation_data=test_dataset,\n",
    "        epochs=20,\n",
    "        callbacks=callbacks\n",
    "    )\n",
    "\n",
    "    # Evaluate the model\n",
    "    print(f\"\\nEvaluating {model_type.upper()} model...\")\n",
    "    results = evaluate_model(model, test_dataset)  # Modify the evaluate_model function if necessary\n",
    "\n",
    "    # Plot the training history\n",
    "    print(\"\\nPlotting training history...\")\n",
    "    plot_history(history)\n",
    "\n",
    "    # Print results\n",
    "    print(f\"\\nResults for {model_type.upper()}: {results}\")\n",
    "    print(\"=\" * 50)\n"
   ]
  }
 ],
 "metadata": {
  "kernelspec": {
   "display_name": "Python 3",
   "language": "python",
   "name": "python3"
  },
  "language_info": {
   "codemirror_mode": {
    "name": "ipython",
    "version": 3
   },
   "file_extension": ".py",
   "mimetype": "text/x-python",
   "name": "python",
   "nbconvert_exporter": "python",
   "pygments_lexer": "ipython3",
   "version": "3.12.4"
  }
 },
 "nbformat": 4,
 "nbformat_minor": 2
}
